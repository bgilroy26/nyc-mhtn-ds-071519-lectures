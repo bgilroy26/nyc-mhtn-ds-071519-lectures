{
 "cells": [
  {
   "cell_type": "markdown",
   "metadata": {},
   "source": [
    "# Starting Off:\n",
    "\n",
    "Look at the graph below and determine why this is a bad data visualization. \n",
    "\n",
    "<img src=\"http://livingqlikview.com/wp-content/uploads/2017/04/Worst-Data-Visualizations-03.jpg\" alt=\"viz\" title=\"Bad Data Viz\" width=\"550\" />\n",
    "\n"
   ]
  },
  {
   "cell_type": "markdown",
   "metadata": {},
   "source": [
    "**Aim:** Students will be able to determine which graph to use when trying to convey specific information. \n",
    "\n",
    "**Agenda:**  \n",
    "- Review the uses of each graph\n",
    "- Review code to create each graph\n",
    "    - Line Graph\n",
    "    - Bar Chart\n",
    "    - Box plot\n",
    "    - Histogram\n",
    "    - Scatter Plot\n",
    "- Practice Problem"
   ]
  },
  {
   "cell_type": "code",
   "execution_count": 1,
   "metadata": {},
   "outputs": [],
   "source": [
    "import matplotlib.pyplot as plt\n",
    "import numpy as np"
   ]
  },
  {
   "cell_type": "markdown",
   "metadata": {},
   "source": [
    "## Line Graph"
   ]
  },
  {
   "cell_type": "markdown",
   "metadata": {},
   "source": [
    "Line graphs are used to track changes over short and long periods of time. When smaller changes exist, line graphs are better to use than bar graphs. Line graphs can also be used to compare changes over the same period of time for more than one group."
   ]
  },
  {
   "cell_type": "code",
   "execution_count": null,
   "metadata": {},
   "outputs": [],
   "source": [
    "import matplotlib.pyplot as plt\n",
    "\n",
    "# Initalize a Figure and Axes\n",
    "fig, ax = plt.subplots()\n",
    "\n",
    "# Plot the CO2 variable in blue\n",
    "ax.plot(climate_change.index, climate_change['co2'], color='b')\n",
    "\n",
    "# Create a twin Axes that shares the x-axis\n",
    "ax2 = ax.twinx()\n",
    "\n",
    "# Plot the relative temperature in red\n",
    "ax2.plot(climate_change.index, climate_change['relative_temp'], color='r')\n",
    "\n",
    "plt.show()"
   ]
  },
  {
   "cell_type": "code",
   "execution_count": 2,
   "metadata": {},
   "outputs": [],
   "source": [
    "### Create a fake data set\n",
    "rng = np.arange(50)\n",
    "rnd = np.random.randint(0, 10, size=(3, rng.size))\n",
    "yrs = 1950 + rng"
   ]
  },
  {
   "cell_type": "code",
   "execution_count": 3,
   "metadata": {},
   "outputs": [],
   "source": [
    "data = rng + rnd"
   ]
  },
  {
   "cell_type": "code",
   "execution_count": 4,
   "metadata": {},
   "outputs": [
    {
     "data": {
      "text/plain": [
       "array([[ 8,  8,  5, 11, 13, 13, 14, 16,  9,  9, 16, 16, 17, 16, 20, 24,\n",
       "        21, 19, 21, 24, 21, 26, 24, 24, 24, 29, 32, 33, 33, 32, 38, 40,\n",
       "        35, 35, 41, 40, 37, 39, 45, 43, 44, 43, 51, 47, 47, 46, 52, 49,\n",
       "        48, 55],\n",
       "       [ 1,  8,  9, 11,  8, 11, 14, 15, 11, 16, 19, 20, 18, 16, 19, 17,\n",
       "        21, 20, 21, 24, 27, 29, 25, 27, 27, 27, 32, 35, 37, 31, 31, 35,\n",
       "        37, 39, 42, 41, 40, 41, 47, 42, 45, 43, 43, 44, 50, 52, 49, 54,\n",
       "        51, 56],\n",
       "       [ 4,  2, 10,  6,  5,  7, 12,  8, 14,  9, 12, 16, 14, 17, 17, 22,\n",
       "        24, 20, 21, 27, 21, 29, 28, 27, 32, 32, 28, 36, 36, 29, 32, 38,\n",
       "        32, 35, 39, 37, 45, 38, 41, 42, 40, 50, 43, 51, 49, 48, 54, 54,\n",
       "        57, 50]])"
      ]
     },
     "execution_count": 4,
     "metadata": {},
     "output_type": "execute_result"
    }
   ],
   "source": [
    "data"
   ]
  },
  {
   "cell_type": "code",
   "execution_count": null,
   "metadata": {},
   "outputs": [],
   "source": [
    "# generate a fig and ax object \n",
    "fig, ax = plt.subplots(figsize=(8, 5))\n",
    "\n",
    "#use the stackplot method to create your graph\n",
    "ax.stackplot(yrs, data, labels=['Eastasia', 'Eurasia', 'Oceania'])\n",
    "\n",
    "#add additional information to your graph\n",
    "ax.set_title('Combined debt growth over time')\n",
    "ax.legend(loc='upper left')\n",
    "ax.set_ylabel('Total debt')\n",
    "ax.set_xlim(left=yrs[0], right=yrs[-1])\n",
    "fig.tight_layout()"
   ]
  },
  {
   "cell_type": "markdown",
   "metadata": {},
   "source": [
    "## Bar Chart\n",
    "\n",
    "Bar graphs are used to compare variables between different groups/categories. Sometimes they are used to measure change over time, but that is often when you think of a time period as a group, like decades, and changes between those groups are quite large.  "
   ]
  },
  {
   "cell_type": "code",
   "execution_count": 5,
   "metadata": {},
   "outputs": [],
   "source": [
    "import pandas as pd\n",
    "\n",
    "data = pd.read_csv('weight-height.csv', index_col=False)"
   ]
  },
  {
   "cell_type": "code",
   "execution_count": 6,
   "metadata": {},
   "outputs": [],
   "source": [
    "males = data[data['Gender'] == 'Male']\n",
    "females = data[data['Gender'] == 'Female']\n"
   ]
  },
  {
   "cell_type": "code",
   "execution_count": 7,
   "metadata": {},
   "outputs": [
    {
     "data": {
      "text/html": [
       "<div>\n",
       "<style scoped>\n",
       "    .dataframe tbody tr th:only-of-type {\n",
       "        vertical-align: middle;\n",
       "    }\n",
       "\n",
       "    .dataframe tbody tr th {\n",
       "        vertical-align: top;\n",
       "    }\n",
       "\n",
       "    .dataframe thead th {\n",
       "        text-align: right;\n",
       "    }\n",
       "</style>\n",
       "<table border=\"1\" class=\"dataframe\">\n",
       "  <thead>\n",
       "    <tr style=\"text-align: right;\">\n",
       "      <th></th>\n",
       "      <th>Gender</th>\n",
       "      <th>Height</th>\n",
       "      <th>Weight</th>\n",
       "    </tr>\n",
       "  </thead>\n",
       "  <tbody>\n",
       "    <tr>\n",
       "      <th>5000</th>\n",
       "      <td>Female</td>\n",
       "      <td>58.910732</td>\n",
       "      <td>102.088326</td>\n",
       "    </tr>\n",
       "    <tr>\n",
       "      <th>5001</th>\n",
       "      <td>Female</td>\n",
       "      <td>65.230013</td>\n",
       "      <td>141.305823</td>\n",
       "    </tr>\n",
       "    <tr>\n",
       "      <th>5002</th>\n",
       "      <td>Female</td>\n",
       "      <td>63.369004</td>\n",
       "      <td>131.041403</td>\n",
       "    </tr>\n",
       "    <tr>\n",
       "      <th>5003</th>\n",
       "      <td>Female</td>\n",
       "      <td>64.479997</td>\n",
       "      <td>128.171511</td>\n",
       "    </tr>\n",
       "    <tr>\n",
       "      <th>5004</th>\n",
       "      <td>Female</td>\n",
       "      <td>61.793096</td>\n",
       "      <td>129.781407</td>\n",
       "    </tr>\n",
       "  </tbody>\n",
       "</table>\n",
       "</div>"
      ],
      "text/plain": [
       "      Gender     Height      Weight\n",
       "5000  Female  58.910732  102.088326\n",
       "5001  Female  65.230013  141.305823\n",
       "5002  Female  63.369004  131.041403\n",
       "5003  Female  64.479997  128.171511\n",
       "5004  Female  61.793096  129.781407"
      ]
     },
     "execution_count": 7,
     "metadata": {},
     "output_type": "execute_result"
    }
   ],
   "source": [
    "females.head()"
   ]
  },
  {
   "cell_type": "code",
   "execution_count": 15,
   "metadata": {},
   "outputs": [],
   "source": [
    "index = ['Male', 'Female']"
   ]
  },
  {
   "cell_type": "code",
   "execution_count": 11,
   "metadata": {},
   "outputs": [
    {
     "ename": "NameError",
     "evalue": "name 'weights' is not defined",
     "output_type": "error",
     "traceback": [
      "\u001b[0;31m---------------------------------------------------------------------------\u001b[0m",
      "\u001b[0;31mNameError\u001b[0m                                 Traceback (most recent call last)",
      "\u001b[0;32m<ipython-input-11-c2f5eadde9ab>\u001b[0m in \u001b[0;36m<module>\u001b[0;34m\u001b[0m\n\u001b[1;32m      1\u001b[0m \u001b[0;32mfrom\u001b[0m \u001b[0mstatistics\u001b[0m \u001b[0;32mimport\u001b[0m \u001b[0mmean\u001b[0m\u001b[0;34m\u001b[0m\u001b[0;34m\u001b[0m\u001b[0m\n\u001b[0;32m----> 2\u001b[0;31m \u001b[0mmeans\u001b[0m \u001b[0;34m=\u001b[0m \u001b[0;34m[\u001b[0m \u001b[0mmean\u001b[0m\u001b[0;34m(\u001b[0m\u001b[0mweights\u001b[0m\u001b[0;34m)\u001b[0m\u001b[0;34m,\u001b[0m \u001b[0mmean\u001b[0m\u001b[0;34m(\u001b[0m\u001b[0mheights\u001b[0m\u001b[0;34m)\u001b[0m\u001b[0;34m]\u001b[0m\u001b[0;34m\u001b[0m\u001b[0;34m\u001b[0m\u001b[0m\n\u001b[0m",
      "\u001b[0;31mNameError\u001b[0m: name 'weights' is not defined"
     ]
    }
   ],
   "source": [
    "from statistics import mean\n",
    "means = [ mean(weights), mean(heights)]"
   ]
  },
  {
   "cell_type": "code",
   "execution_count": 16,
   "metadata": {},
   "outputs": [
    {
     "data": {
      "image/png": "[encoded data removed]",
      "text/plain": [
       "<Figure size 432x288 with 1 Axes>"
      ]
     },
     "metadata": {
      "needs_background": "light"
     },
     "output_type": "display_data"
    }
   ],
   "source": [
    "fig, ax = plt.subplots()\n",
    "\n",
    "# Plot a bar-chart of gold medals as a function of country\n",
    "ax.bar(['Males', 'Females'], [males['Height'].mean(), females['Height'].mean()])\n",
    "\n",
    "# Set the x-axis tick labels to the country names\n",
    "ax.set_xticklabels(index, rotation=90)\n",
    "\n",
    "# Set the y-axis label\n",
    "ax.set_ylabel(\"Height (cm)\")\n",
    "\n",
    "ax.set_title('Comparing Height by Gender')\n",
    "\n",
    "plt.show()"
   ]
  },
  {
   "cell_type": "code",
   "execution_count": null,
   "metadata": {},
   "outputs": [],
   "source": []
  },
  {
   "cell_type": "markdown",
   "metadata": {},
   "source": [
    "## Box Plot\n",
    "\n",
    "A box and whisker plot—also called a box plot—displays the five-number summary of a set of data. The five-number summary is the minimum, first quartile, median, third quartile, and maximum.\n",
    "In a box plot, we draw a box from the first quartile to the third quartile. A vertical line goes through the box at the median. The whiskers go from each quartile to the minimum or maximum.\n",
    "\n",
    "<img src=\"https://www150.statcan.gc.ca/n1/edu/power-pouvoir/ch12/img/5214889_01-eng.gif\" alt=\"boxplot\" title=\"Box Plot\" width=\"550\" />\n",
    "\n",
    "\n",
    "\n"
   ]
  },
  {
   "cell_type": "code",
   "execution_count": 18,
   "metadata": {},
   "outputs": [
    {
     "data": {
      "image/png": "[encoded data removed]",
      "text/plain": [
       "<Figure size 432x288 with 1 Axes>"
      ]
     },
     "metadata": {
      "needs_background": "light"
     },
     "output_type": "display_data"
    }
   ],
   "source": [
    "fig, ax = plt.subplots()\n",
    "\n",
    "# Add a boxplot for the \"Height\" column in the DataFrames\n",
    "ax.boxplot([males['Height'], females['Height']])\n",
    "\n",
    "# Add x-axis tick labels:\n",
    "ax.set_xticklabels(['Males','Females'])\n",
    "\n",
    "# Add a y-axis label\n",
    "ax.set_ylabel(\"Height (cm)\")\n",
    "\n",
    "plt.show()"
   ]
  },
  {
   "cell_type": "markdown",
   "metadata": {},
   "source": [
    "## Histogram\n",
    "\n",
    "A histogram is a plot that lets you discover, and show, the underlying frequency distribution (shape) of a set of continuous data. This allows the inspection of the data for its underlying distribution (e.g., normal distribution), outliers, skewness, etc. \n",
    "\n",
    "<img src=\"https://statistics.laerd.com/statistical-guides/img/histogram-1.png\" alt=\"viz\" title=\"Histogram\" width=\"350\" />"
   ]
  },
  {
   "cell_type": "markdown",
   "metadata": {},
   "source": [
    "**How do you construct a histogram from a continuous variable?**\n",
    "\n",
    "To construct a histogram from a continuous variable you first need to split the data into intervals, called bins. In the example above, age has been split into bins, with each bin representing a 10-year period starting at 20 years. Each bin contains the number of occurrences of scores in the data set that are contained within that bin. For the above data set, the frequencies in each bin have been tabulated along with the scores that contributed to the frequency in each bin (see below):\n",
    "\n",
    "<img src=\"images/binned.png\" alt=\"viz\" title=\"Histogram\" width=\"550\" />"
   ]
  },
  {
   "cell_type": "markdown",
   "metadata": {},
   "source": [
    "**Choosing the correct bin width**  \n",
    "\n",
    "There is no right or wrong answer as to how wide a bin should be, but there are rules of thumb. You need to make sure that the bins are not too small or too large. Consider the histogram we produced earlier (see above): the following histograms use the same data, but have either much smaller or larger bins, as shown below:\n",
    "\n",
    "\n",
    "<img src=\"https://statistics.laerd.com/statistical-guides/img/histogram-4.png\" alt=\"viz\" title=\"Histogram\" width=\"550\" />\n"
   ]
  },
  {
   "cell_type": "code",
   "execution_count": 19,
   "metadata": {},
   "outputs": [
    {
     "data": {
      "image/png": "[encoded data removed]",
      "text/plain": [
       "<Figure size 432x288 with 1 Axes>"
      ]
     },
     "metadata": {
      "needs_background": "light"
     },
     "output_type": "display_data"
    }
   ],
   "source": [
    "fig, ax = plt.subplots()\n",
    "# Plot a histogram of \"Weight\" for mens_rowing\n",
    "ax.hist(females['Height'])\n",
    "\n",
    "# Compare to histogram of \"Weight\" for mens_gymnastics\n",
    "ax.hist(males['Height'])\n",
    "\n",
    "# Set the x-axis label to \"Weight (kg)\"\n",
    "ax.set_xlabel('Height (cm)')\n",
    "\n",
    "# Set the y-axis label to \"# of observations\"\n",
    "ax.set_ylabel('# of observations')\n",
    "\n",
    "ax.set_title('Historgam of height by Sex')\n",
    "\n",
    "plt.show()"
   ]
  },
  {
   "cell_type": "markdown",
   "metadata": {},
   "source": [
    "### Adding parameters to make data more clear"
   ]
  },
  {
   "cell_type": "code",
   "execution_count": 20,
   "metadata": {},
   "outputs": [
    {
     "data": {
      "image/png": "[encoded data removed]",
      "text/plain": [
       "<Figure size 432x288 with 1 Axes>"
      ]
     },
     "metadata": {
      "needs_background": "light"
     },
     "output_type": "display_data"
    }
   ],
   "source": [
    "fig, ax = plt.subplots()\n",
    "# Plot a histogram of \"Weight\" for mens_rowing\n",
    "ax.hist(females['Height'], label=\"Female\", bins=15, histtype='step')\n",
    "\n",
    "# Compare to histogram of \"Weight\" for mens_gymnastics\n",
    "ax.hist(males['Height'], label=\"Male\", bins=15, histtype='step')\n",
    "\n",
    "# Set the x-axis label to \"Weight (kg)\"\n",
    "ax.set_xlabel('Height (cm)')\n",
    "\n",
    "# Set the y-axis label to \"# of observations\"\n",
    "ax.set_ylabel('# of observations')\n",
    "\n",
    "ax.set_title('Historgam of height by Sex')\n",
    "\n",
    "plt.show()\n",
    "\n"
   ]
  },
  {
   "cell_type": "markdown",
   "metadata": {},
   "source": [
    "**What is the difference between a bar chart and a histogram?** \n",
    "\n",
    "The major difference is that a histogram is only used to plot the frequency of score occurrences in a continuous data set that has been divided into classes, called bins. Bar charts, on the other hand, can be used for a great deal of other types of variables including ordinal and nominal data sets."
   ]
  },
  {
   "cell_type": "markdown",
   "metadata": {},
   "source": [
    "## Scatterplot\n",
    "\n",
    "Scatterplots, also referred to as an 'X-Y plot', are used to show/determine relationships between the two different variables. It compares the values of different variables across observations. \n",
    "\n",
    "The x-axis is used to measure one event (or variable) and the y-axis is used to measure the other. If both variables increase at the same time, they have a positive relationship. If one variable decreases while the other increases, they have a negative relationship. Sometimes the variables don't follow any pattern and have no relationship."
   ]
  },
  {
   "cell_type": "markdown",
   "metadata": {},
   "source": [
    "<img src=\"https://seaborn.pydata.org/_images/seaborn-scatterplot-2.png\" alt=\"viz\" title=\"Histogram\" width=\"550\" />"
   ]
  },
  {
   "cell_type": "code",
   "execution_count": 21,
   "metadata": {},
   "outputs": [
    {
     "data": {
      "image/png": "[encoded data removed]",
      "text/plain": [
       "<Figure size 432x288 with 1 Axes>"
      ]
     },
     "metadata": {
      "needs_background": "light"
     },
     "output_type": "display_data"
    }
   ],
   "source": [
    "fig, ax = plt.subplots()\n",
    "\n",
    "# Add data: \"height\", \"weight\" as x-y, index as color\n",
    "ax.scatter(data[\"Height\"], data[\"Weight\"])\n",
    "\n",
    "# Set the x-axis label to \"CO2 (ppm)\"\n",
    "ax.set_xlabel(\"Height (cm)\")\n",
    "\n",
    "# Set the y-axis label to \"Relative temperature (C)\"\n",
    "ax.set_ylabel(\"Weight (lbs)\")\n",
    "\n",
    "ax.set_title('Relationship between height and weight')\n",
    "\n",
    "\n",
    "plt.show()"
   ]
  },
  {
   "cell_type": "code",
   "execution_count": 22,
   "metadata": {},
   "outputs": [
    {
     "data": {
      "image/png": "[encoded data removed]",
      "text/plain": [
       "<Figure size 432x288 with 1 Axes>"
      ]
     },
     "metadata": {
      "needs_background": "light"
     },
     "output_type": "display_data"
    }
   ],
   "source": [
    "fig, ax = plt.subplots()\n",
    "\n",
    "# Add data: \"height\", \"weight\" as x-y, index as color\n",
    "ax.scatter(males[\"Height\"], males[\"Weight\"],label='Males', color ='r' )\n",
    "\n",
    "ax.scatter(females[\"Height\"], females[\"Weight\"], label='Females',color ='b' )\n",
    "\n",
    "# Set the x-axis label to \"Height (cm)\"\n",
    "ax.set_xlabel(\"Height (cm)\")\n",
    "\n",
    "# Set the y-axis label to \"Weight (lbs)\"\n",
    "ax.set_ylabel(\"Weight (lbs)\")\n",
    "\n",
    "ax.set_title('Relationship between height and weight')\n",
    "\n",
    "ax.legend()\n",
    "plt.show()"
   ]
  },
  {
   "cell_type": "code",
   "execution_count": null,
   "metadata": {},
   "outputs": [],
   "source": [
    "data['Gen_color'] = np.where(data['Gender']=='Female', 1, 0)"
   ]
  },
  {
   "cell_type": "code",
   "execution_count": null,
   "metadata": {},
   "outputs": [],
   "source": [
    "data.head()"
   ]
  },
  {
   "cell_type": "code",
   "execution_count": null,
   "metadata": {},
   "outputs": [],
   "source": [
    "fig, ax = plt.subplots()\n",
    "\n",
    "# Add data: \"height\", \"weight\" as x-y, index as color\n",
    "ax.scatter(data[\"Height\"], data[\"Weight\"], c=data.Gen_color)\n",
    "\n",
    "# Set the x-axis label to \"CO2 (ppm)\"\n",
    "ax.set_xlabel(\"Height (cm)\")\n",
    "\n",
    "# Set the y-axis label to \"Relative temperature (C)\"\n",
    "ax.set_ylabel(\"Weight (lbs)\")\n",
    "\n",
    "ax.set_title('Relationship between height and weight')\n",
    "\n",
    "\n",
    "plt.show()\n"
   ]
  },
  {
   "cell_type": "markdown",
   "metadata": {},
   "source": [
    "You have a chart with the height, and weight for member of a high school basketball team and every member of the football team. You also have their win totals for each year.  You want to create different graphics to convey information about the two team. Read each scenario below and determine which type of graph would be most appropriate.  \n",
    "\n",
    "\n",
    "\n",
    "1. You want to compare the average height of the football players with the average height of the basketball players.\n",
    "\n",
    "2. You want to see if there is a relationship between the height and weight of the players.\n",
    "\n",
    "3. You want to understand the distribution of the heights of both teams.  \n",
    "\n",
    "4. You want to show if there are any outliers of extremely short or tall players. \n",
    "\n",
    "5. You want to get a sense of how the basketball team has performed throughout the history of the program.  \n",
    "\n"
   ]
  },
  {
   "cell_type": "markdown",
   "metadata": {},
   "source": [
    "1. Bar chart\n",
    "2. Scatter plot\n",
    "3. Histogram\n",
    "4. Box and Whisker plot\n",
    "5. Line Graph"
   ]
  },
  {
   "cell_type": "code",
   "execution_count": null,
   "metadata": {},
   "outputs": [],
   "source": []
  }
 ],
 "metadata": {
  "kernelspec": {
   "display_name": "Python 3",
   "language": "python",
   "name": "python3"
  },
  "language_info": {
   "codemirror_mode": {
    "name": "ipython",
    "version": 3
   },
   "file_extension": ".py",
   "mimetype": "text/x-python",
   "name": "python",
   "nbconvert_exporter": "python",
   "pygments_lexer": "ipython3",
   "version": "3.7.3"
  }
 },
 "nbformat": 4,
 "nbformat_minor": 2
}
