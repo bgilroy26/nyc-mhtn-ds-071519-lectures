{
 "cells": [
  {
   "cell_type": "code",
   "execution_count": 1,
   "metadata": {},
   "outputs": [],
   "source": [
    "import json\n",
    "import pandas as pd"
   ]
  },
  {
   "cell_type": "markdown",
   "metadata": {},
   "source": [
    "# Part 1: Reading and investigating data\n",
    "\n",
    "Open up the `player_data.json` and investigate the data structure."
   ]
  },
  {
   "cell_type": "code",
   "execution_count": 2,
   "metadata": {},
   "outputs": [
    {
     "name": "stdout",
     "output_type": "stream",
     "text": [
      "Pandas Challenge NBA.ipynb player_data.json\r\n"
     ]
    }
   ],
   "source": [
    "import sys\n",
    "#your code here\n",
    "data = json.loads(open('player_data.json').read())\n",
    "data[0].keys()"
   ]
  },
  {
   "cell_type": "markdown",
   "metadata": {},
   "source": [
    "# Part 2:  Creating the Dataframe\n",
    "\n",
    "Create a data frame where each row corresponds to a game for each player. You must have atleast the following columns in your final dataframe:\n",
    "\n",
    "'DISPLAY_FIRST_LAST', 'PERSON_ID', 'TEAM_ID', 'AST', 'BLK', 'DREB','Game_ID',  'MIN', 'PTS', 'REB', 'TEAM_ABBREVIATION'\n",
    "\n",
    "*You can include additional columns in your dataframe, so you don't have to do additional work to remove other columns.*  "
   ]
  },
  {
   "cell_type": "code",
   "execution_count": 3,
   "metadata": {},
   "outputs": [],
   "source": [
    "import sys\n",
    "#columns = ['DISPLAY_FIRST_LAST', 'PERSON_ID', 'TEAM_ID', 'AST', 'STL', 'BLK', 'DREB','Game_ID', 'MIN', 'PTS', 'REB', 'TEAM_ABBREVIATION']\n",
    "df = pd.DataFrame()\n",
    "\n",
    "for person in data:\n",
    "\n",
    "    if len(person['GAMELOG']) == 0:\n",
    "        continue\n",
    "    df1 = pd.DataFrame(person, columns=['DISPLAY_FIRST_LAST', 'PERSON_ID', 'TEAM_ID', 'CAREER_STATS'], index=[0])\n",
    "    df2 = pd.DataFrame(person['GAMELOG'])\n",
    "    merged = pd.merge(df1, df2, left_on='PERSON_ID', right_on='Player_ID', how='outer')\n",
    "    df = pd.concat([df, merged])\n",
    "    \n",
    "df.reset_index(drop=True, inplace=True)"
   ]
  },
  {
   "cell_type": "markdown",
   "metadata": {},
   "source": [
    "# Part 3: Pandas Questions\n",
    "\n",
    "Answer the following questions"
   ]
  },
  {
   "cell_type": "markdown",
   "metadata": {},
   "source": [
    "## 1 \n",
    "- Find the player who scored the most points in an individual game last season.\n",
    "\n",
    "-  Now do the same for rebounds, blocks, and assists."
   ]
  },
  {
   "cell_type": "code",
   "execution_count": 4,
   "metadata": {},
   "outputs": [
    {
     "data": {
      "text/plain": [
       "array(['Russell Westbrook', 'Mitchell Robinson', 'Hassan Whiteside',\n",
       "       'Karl-Anthony Towns', 'James Harden'], dtype=object)"
      ]
     },
     "execution_count": 4,
     "metadata": {},
     "output_type": "execute_result"
    }
   ],
   "source": [
    "# Your code here\n",
    "max_points_game_df = df.loc[df['PTS'] == df['PTS'].max()]\n",
    "df['REB'] = df['OREB'] + df['DREB']\n",
    "max_rebs_game_df = df[df['REB'] == df['REB'].max()]\n",
    "max_blks_game_df = df[df['BLK'] == df['BLK'].max()]\n",
    "max_asts_game_df = df[df['AST'] == df['AST'].max()]\n",
    "pd.concat([max_asts_game_df, max_blks_game_df, max_rebs_game_df,max_points_game_df])['DISPLAY_FIRST_LAST'].unique()\n"
   ]
  },
  {
   "cell_type": "markdown",
   "metadata": {},
   "source": [
    "## 2: \n",
    "\n",
    "- Find the player who scored the most points for the entire season.\n",
    "\n",
    "- Now do the same for rebounds, blocks, and assists."
   ]
  },
  {
   "cell_type": "code",
   "execution_count": 178,
   "metadata": {},
   "outputs": [
    {
     "data": {
      "text/plain": [
       "'James Harden'"
      ]
     },
     "execution_count": 178,
     "metadata": {},
     "output_type": "execute_result"
    }
   ],
   "source": [
    "import numpy as np\n",
    "#your code here\n",
    "df_to_group = df[['PERSON_ID', 'AST','BLK', 'PTS', 'REB', 'STL']]\n",
    "gb_player = df_to_group.groupby('PERSON_ID').sum()\n",
    "df[df['PERSON_ID'] == np.argmax(gb_player['PTS'])]['DISPLAY_FIRST_LAST'].iloc[0]"
   ]
  },
  {
   "cell_type": "markdown",
   "metadata": {},
   "source": [
    "## 3:\n",
    "How many players played in at least 82 games last season?"
   ]
  },
  {
   "cell_type": "code",
   "execution_count": 181,
   "metadata": {},
   "outputs": [
    {
     "data": {
      "text/plain": [
       "21"
      ]
     },
     "execution_count": 181,
     "metadata": {},
     "output_type": "execute_result"
    }
   ],
   "source": [
    "#your code here\n",
    "len(df.groupby('PERSON_ID').filter(lambda x: x['Game_ID'].count() >= 82).groupby('DISPLAY_FIRST_LAST').first().index.tolist())"
   ]
  },
  {
   "cell_type": "markdown",
   "metadata": {},
   "source": [
    "## 4: \n",
    "- Find which team scored the most points for the entire season.\n",
    "\n",
    "- Now do the same for rebounds, blocks, and assists."
   ]
  },
  {
   "cell_type": "code",
   "execution_count": 185,
   "metadata": {},
   "outputs": [
    {
     "data": {
      "text/html": [
       "<div>\n",
       "<style scoped>\n",
       "    .dataframe tbody tr th:only-of-type {\n",
       "        vertical-align: middle;\n",
       "    }\n",
       "\n",
       "    .dataframe tbody tr th {\n",
       "        vertical-align: top;\n",
       "    }\n",
       "\n",
       "    .dataframe thead th {\n",
       "        text-align: right;\n",
       "    }\n",
       "</style>\n",
       "<table border=\"1\" class=\"dataframe\">\n",
       "  <thead>\n",
       "    <tr style=\"text-align: right;\">\n",
       "      <th></th>\n",
       "      <th>level_0</th>\n",
       "      <th>TEAM_ABBREVIATION</th>\n",
       "      <th>0</th>\n",
       "      <th>index</th>\n",
       "    </tr>\n",
       "  </thead>\n",
       "  <tbody>\n",
       "    <tr>\n",
       "      <th>0</th>\n",
       "      <td>AST</td>\n",
       "      <td>GSW</td>\n",
       "      <td>2413</td>\n",
       "      <td>AST</td>\n",
       "    </tr>\n",
       "    <tr>\n",
       "      <th>1</th>\n",
       "      <td>BLK</td>\n",
       "      <td>GSW</td>\n",
       "      <td>525</td>\n",
       "      <td>BLK</td>\n",
       "    </tr>\n",
       "    <tr>\n",
       "      <th>2</th>\n",
       "      <td>PTS</td>\n",
       "      <td>MIL</td>\n",
       "      <td>9686</td>\n",
       "      <td>PTS</td>\n",
       "    </tr>\n",
       "    <tr>\n",
       "      <th>3</th>\n",
       "      <td>REB</td>\n",
       "      <td>MIL</td>\n",
       "      <td>4078</td>\n",
       "      <td>REB</td>\n",
       "    </tr>\n",
       "    <tr>\n",
       "      <th>4</th>\n",
       "      <td>STL</td>\n",
       "      <td>OKC</td>\n",
       "      <td>766</td>\n",
       "      <td>STL</td>\n",
       "    </tr>\n",
       "  </tbody>\n",
       "</table>\n",
       "</div>"
      ],
      "text/plain": [
       "  level_0 TEAM_ABBREVIATION     0 index\n",
       "0     AST               GSW  2413   AST\n",
       "1     BLK               GSW   525   BLK\n",
       "2     PTS               MIL  9686   PTS\n",
       "3     REB               MIL  4078   REB\n",
       "4     STL               OKC   766   STL"
      ]
     },
     "execution_count": 185,
     "metadata": {},
     "output_type": "execute_result"
    }
   ],
   "source": [
    "# your code here\n",
    "team_data = df[['TEAM_ABBREVIATION', 'AST','BLK', 'PTS', 'REB', 'STL']]\n",
    "team_groups = team_data.groupby('TEAM_ABBREVIATION').sum()\n",
    "max_vals = team_data.groupby('TEAM_ABBREVIATION').agg(lambda x: sum(x)).agg(lambda x: max(x)).reset_index()\n",
    "#pd.merge(team_groups, max_vals, left_on)\n",
    "unstacked_teams = team_groups.unstack().reset_index()\n",
    "pd.merge(unstacked_teams, max_vals)\n"
   ]
  },
  {
   "cell_type": "markdown",
   "metadata": {},
   "source": [
    "## 5:\n",
    "Which team had the most players play for them last season?"
   ]
  },
  {
   "cell_type": "code",
   "execution_count": 218,
   "metadata": {},
   "outputs": [
    {
     "data": {
      "text/plain": [
       "TEAM_ABBREVIATION\n",
       "MEM    28\n",
       "Name: PERSON_ID, dtype: int64"
      ]
     },
     "execution_count": 218,
     "metadata": {},
     "output_type": "execute_result"
    }
   ],
   "source": [
    "#your code here\n",
    "n_players = df.groupby('TEAM_ABBREVIATION')['PERSON_ID'].nunique()\n",
    "n_players.loc[n_players.apply(lambda x: x >= n_players.max())]"
   ]
  },
  {
   "cell_type": "markdown",
   "metadata": {},
   "source": [
    "## 6:\n",
    "- Did any players play for more than one team last year?\n",
    "\n",
    "- What is the most number of teams a player played for last season?"
   ]
  },
  {
   "cell_type": "code",
   "execution_count": 153,
   "metadata": {},
   "outputs": [
    {
     "name": "stdout",
     "output_type": "stream",
     "text": [
      "86\n"
     ]
    },
    {
     "data": {
      "text/plain": [
       "3"
      ]
     },
     "execution_count": 153,
     "metadata": {},
     "output_type": "execute_result"
    }
   ],
   "source": [
    "n_teams_by_player = df.groupby('PERSON_ID')['TEAM_ABBREVIATION'].nunique()\n",
    "print(n_teams_by_player.apply(lambda x: x > 1).sum())\n",
    "n_teams_by_player.max()"
   ]
  },
  {
   "cell_type": "markdown",
   "metadata": {},
   "source": [
    "## 7:\n",
    "\n",
    "Find the player who scored the least amount of points while playing in at least 40 games last season."
   ]
  },
  {
   "cell_type": "code",
   "execution_count": 195,
   "metadata": {},
   "outputs": [
    {
     "data": {
      "text/html": [
       "<div>\n",
       "<style scoped>\n",
       "    .dataframe tbody tr th:only-of-type {\n",
       "        vertical-align: middle;\n",
       "    }\n",
       "\n",
       "    .dataframe tbody tr th {\n",
       "        vertical-align: top;\n",
       "    }\n",
       "\n",
       "    .dataframe thead th {\n",
       "        text-align: right;\n",
       "    }\n",
       "</style>\n",
       "<table border=\"1\" class=\"dataframe\">\n",
       "  <thead>\n",
       "    <tr style=\"text-align: right;\">\n",
       "      <th></th>\n",
       "      <th>PERSON_ID</th>\n",
       "      <th>TEAM_ID_x</th>\n",
       "      <th>AST</th>\n",
       "      <th>BLK</th>\n",
       "      <th>DREB</th>\n",
       "      <th>FG3A</th>\n",
       "      <th>FG3M</th>\n",
       "      <th>FG3_PCT</th>\n",
       "      <th>FGA</th>\n",
       "      <th>FGM</th>\n",
       "      <th>...</th>\n",
       "      <th>OREB</th>\n",
       "      <th>PF</th>\n",
       "      <th>PLUS_MINUS</th>\n",
       "      <th>PTS</th>\n",
       "      <th>Player_ID</th>\n",
       "      <th>REB</th>\n",
       "      <th>STL</th>\n",
       "      <th>TEAM_ID_y</th>\n",
       "      <th>TOV</th>\n",
       "      <th>VIDEO_AVAILABLE</th>\n",
       "    </tr>\n",
       "    <tr>\n",
       "      <th>DISPLAY_FIRST_LAST</th>\n",
       "      <th></th>\n",
       "      <th></th>\n",
       "      <th></th>\n",
       "      <th></th>\n",
       "      <th></th>\n",
       "      <th></th>\n",
       "      <th></th>\n",
       "      <th></th>\n",
       "      <th></th>\n",
       "      <th></th>\n",
       "      <th></th>\n",
       "      <th></th>\n",
       "      <th></th>\n",
       "      <th></th>\n",
       "      <th></th>\n",
       "      <th></th>\n",
       "      <th></th>\n",
       "      <th></th>\n",
       "      <th></th>\n",
       "      <th></th>\n",
       "      <th></th>\n",
       "    </tr>\n",
       "  </thead>\n",
       "  <tbody>\n",
       "    <tr>\n",
       "      <th>Sindarius Thornwell</th>\n",
       "      <td>104218496</td>\n",
       "      <td>103079215744</td>\n",
       "      <td>18</td>\n",
       "      <td>7</td>\n",
       "      <td>39</td>\n",
       "      <td>15</td>\n",
       "      <td>3</td>\n",
       "      <td>2.333</td>\n",
       "      <td>49</td>\n",
       "      <td>17</td>\n",
       "      <td>...</td>\n",
       "      <td>5</td>\n",
       "      <td>41</td>\n",
       "      <td>-38</td>\n",
       "      <td>62</td>\n",
       "      <td>104218496</td>\n",
       "      <td>44</td>\n",
       "      <td>14</td>\n",
       "      <td>103079215744</td>\n",
       "      <td>20</td>\n",
       "      <td>65</td>\n",
       "    </tr>\n",
       "  </tbody>\n",
       "</table>\n",
       "<p>1 rows × 25 columns</p>\n",
       "</div>"
      ],
      "text/plain": [
       "                     PERSON_ID     TEAM_ID_x  AST  BLK  DREB  FG3A  FG3M  \\\n",
       "DISPLAY_FIRST_LAST                                                         \n",
       "Sindarius Thornwell  104218496  103079215744   18    7    39    15     3   \n",
       "\n",
       "                     FG3_PCT  FGA  FGM  ...  OREB  PF  PLUS_MINUS  PTS  \\\n",
       "DISPLAY_FIRST_LAST                      ...                              \n",
       "Sindarius Thornwell    2.333   49   17  ...     5  41         -38   62   \n",
       "\n",
       "                     Player_ID  REB  STL     TEAM_ID_y  TOV  VIDEO_AVAILABLE  \n",
       "DISPLAY_FIRST_LAST                                                            \n",
       "Sindarius Thornwell  104218496   44   14  103079215744   20               65  \n",
       "\n",
       "[1 rows x 25 columns]"
      ]
     },
     "execution_count": 195,
     "metadata": {},
     "output_type": "execute_result"
    }
   ],
   "source": [
    "#your code here\n",
    "player_totals_df = df.groupby('DISPLAY_FIRST_LAST').sum()\n",
    "player_totals_df.loc[player_totals_df['PTS'] == df.groupby('PERSON_ID').sum().loc[df.groupby('PERSON_ID')['Game_ID'].count().apply(lambda x: x >= 40)]['PTS'].min()]#.reset_index()['DISPLAY_FIRST_LAST']\n"
   ]
  },
  {
   "cell_type": "markdown",
   "metadata": {},
   "source": [
    "# Part 4: Pandas and Probability"
   ]
  },
  {
   "cell_type": "markdown",
   "metadata": {},
   "source": [
    "## 8: \n",
    "\n",
    "What is the probability that a random player had a game where they scored more than 40 points?"
   ]
  },
  {
   "cell_type": "code",
   "execution_count": 215,
   "metadata": {},
   "outputs": [
    {
     "data": {
      "text/plain": [
       "0.004214397915788667"
      ]
     },
     "execution_count": 215,
     "metadata": {},
     "output_type": "execute_result"
    }
   ],
   "source": [
    "#your code here\n",
    "df.loc[df['PTS'].apply(lambda x: x > 40)].count()['Game_ID']/df.count()['GAME_DATE']#.count()/df.count()\n"
   ]
  },
  {
   "cell_type": "markdown",
   "metadata": {},
   "source": [
    "## 9:\n",
    "\n",
    "What is the probability that a randomly selected player from last season would average more than 20 points per game?"
   ]
  },
  {
   "cell_type": "code",
   "execution_count": 221,
   "metadata": {},
   "outputs": [
    {
     "data": {
      "text/plain": [
       "0.062264150943396226"
      ]
     },
     "execution_count": 221,
     "metadata": {},
     "output_type": "execute_result"
    }
   ],
   "source": [
    "# your code here\n",
    "len(df.groupby('DISPLAY_FIRST_LAST').mean().loc[df.groupby('DISPLAY_FIRST_LAST').mean()['PTS'].apply(lambda x: x>20)])/len(df.groupby('DISPLAY_FIRST_LAST').mean())"
   ]
  },
  {
   "cell_type": "markdown",
   "metadata": {},
   "source": [
    "# Advanced Questions"
   ]
  },
  {
   "cell_type": "markdown",
   "metadata": {},
   "source": [
    "## 10: \n",
    "Find the player who scored the least amount of points while playing in at least 40 games and averageing at least 15 minutes per game last season."
   ]
  },
  {
   "cell_type": "code",
   "execution_count": 15,
   "metadata": {},
   "outputs": [
    {
     "data": {
      "text/plain": [
       "DISPLAY_FIRST_LAST    Tyson Chandler\n",
       "Game_ID                         True\n",
       "MIN_x                           True\n",
       "PERSON_ID                     120945\n",
       "TEAM_ID_x                88583700975\n",
       "CAREER_STATS                       0\n",
       "AST                               37\n",
       "BLK                               23\n",
       "DREB                             215\n",
       "FG3A                               1\n",
       "FG3M                               0\n",
       "FG3_PCT                            0\n",
       "FGA                               99\n",
       "FGM                               61\n",
       "FG_PCT                        27.563\n",
       "FTA                               87\n",
       "FTM                               51\n",
       "FT_PCT                        18.966\n",
       "MIN_y                            876\n",
       "OREB                              92\n",
       "PF                               110\n",
       "PLUS_MINUS                       -36\n",
       "PTS                              173\n",
       "Player_ID                     120945\n",
       "REB                              307\n",
       "STL                               21\n",
       "TEAM_ID_y                88583701148\n",
       "TOV                               42\n",
       "VIDEO_AVAILABLE                   55\n",
       "Name: 285, dtype: object"
      ]
     },
     "execution_count": 15,
     "metadata": {},
     "output_type": "execute_result"
    }
   ],
   "source": [
    "#your code here\n",
    "#your code here\n",
    "player_totals_df = df.groupby('DISPLAY_FIRST_LAST').sum()\n",
    "played_40 = df.groupby('DISPLAY_FIRST_LAST').count()['Game_ID'].apply(lambda x: x>=40)\n",
    "played_15 = df.groupby('DISPLAY_FIRST_LAST').mean()['MIN'].apply(lambda x: x>= 15)\n",
    "games_minutes_df = pd.merge(played_40, played_15, left_index=True, right_index=True).reset_index()\n",
    "games_minutes_df = games_minutes_df.loc[games_minutes_df['Game_ID'] & games_minutes_df['MIN']]\n",
    "totals_with_40_15 = pd.merge(games_minutes_df, player_totals_df, on='DISPLAY_FIRST_LAST', how='left')\n",
    "totals_with_40_15.iloc[totals_with_40_15['PTS'].idxmin(axis=1)]\n",
    "#player_totals_df.loc[player_totals_df['PTS'] == df.groupby('PERSON_ID').sum().loc[df.groupby('PERSON_ID')['Game_ID'].count().apply(lambda x: x >= 40)]['PTS'].min()]#.reset_index()['DISPLAY_FIRST_LAST']\n"
   ]
  },
  {
   "cell_type": "markdown",
   "metadata": {},
   "source": [
    "## 11: \n",
    "Which player scored the largest share of points for their team throughout the season."
   ]
  },
  {
   "cell_type": "code",
   "execution_count": null,
   "metadata": {},
   "outputs": [],
   "source": [
    "#your code here"
   ]
  },
  {
   "cell_type": "markdown",
   "metadata": {},
   "source": [
    "## 12:\n",
    "\n",
    "What is the probability that a randomly selected player had at least one game in which they scored 40 points last season. "
   ]
  },
  {
   "cell_type": "code",
   "execution_count": null,
   "metadata": {},
   "outputs": [],
   "source": [
    "# your code here"
   ]
  },
  {
   "cell_type": "markdown",
   "metadata": {},
   "source": [
    "## 13: \n",
    "\n",
    "A double-double is when a player records for any of the two follow categories: points, rebounds, assists, steals, or blocks. \n",
    "What is the probability that a randomly selected player had a double-double in a game last season?\n"
   ]
  },
  {
   "cell_type": "code",
   "execution_count": 272,
   "metadata": {},
   "outputs": [
    {
     "data": {
      "text/plain": [
       "0.49056603773584906"
      ]
     },
     "execution_count": 272,
     "metadata": {},
     "output_type": "execute_result"
    }
   ],
   "source": [
    "#your code here\n",
    "# Use the height and width to calculate the area\n",
    "def is_double_double(row):\n",
    "    return sum([value > 9 for key, value in row.items() if key in ('REB', 'AST', 'PTS','STl','BLK')]) > 1\n",
    "\n",
    "df['is_double_double'] = df.apply(is_double_double, axis=1)\n",
    "df.groupby('DISPLAY_FIRST_LAST').agg({'is_double_double':'any'})['is_double_double'].sum()/df['DISPLAY_FIRST_LAST'].nunique()\n"
   ]
  },
  {
   "cell_type": "markdown",
   "metadata": {},
   "source": [
    "## 14:\n",
    "\n",
    "What is the probability that a randomnly selected game had a player record a triple-double in that game?"
   ]
  },
  {
   "cell_type": "code",
   "execution_count": 273,
   "metadata": {},
   "outputs": [
    {
     "data": {
      "text/plain": [
       "0.06981132075471698"
      ]
     },
     "execution_count": 273,
     "metadata": {},
     "output_type": "execute_result"
    }
   ],
   "source": [
    "#your code here\n",
    "# Use the height and width to calculate the area\n",
    "def is_triple_double(row):\n",
    "    return sum([value > 9 for key, value in row.items() if key in ('REB', 'AST', 'PTS','STl','BLK')]) > 2\n",
    "\n",
    "df['is_triple_double'] = df.apply(is_triple_double, axis=1)\n",
    "df.groupby('DISPLAY_FIRST_LAST').agg({'is_triple_double':'any'})['is_triple_double'].sum()/df['DISPLAY_FIRST_LAST'].nunique()\n"
   ]
  },
  {
   "cell_type": "markdown",
   "metadata": {},
   "source": [
    "# Part 5: Super Duper Challenge\n",
    "\n"
   ]
  },
  {
   "cell_type": "markdown",
   "metadata": {},
   "source": [
    "## 15:\n",
    "\n",
    "How many players last season averaged more points per game than their career average?"
   ]
  },
  {
   "cell_type": "code",
   "execution_count": 239,
   "metadata": {},
   "outputs": [
    {
     "data": {
      "text/html": [
       "<div>\n",
       "<style scoped>\n",
       "    .dataframe tbody tr th:only-of-type {\n",
       "        vertical-align: middle;\n",
       "    }\n",
       "\n",
       "    .dataframe tbody tr th {\n",
       "        vertical-align: top;\n",
       "    }\n",
       "\n",
       "    .dataframe thead th {\n",
       "        text-align: right;\n",
       "    }\n",
       "</style>\n",
       "<table border=\"1\" class=\"dataframe\">\n",
       "  <thead>\n",
       "    <tr style=\"text-align: right;\">\n",
       "      <th></th>\n",
       "      <th>PTS</th>\n",
       "      <th>CAREER_STATS</th>\n",
       "    </tr>\n",
       "    <tr>\n",
       "      <th>DISPLAY_FIRST_LAST</th>\n",
       "      <th></th>\n",
       "      <th></th>\n",
       "    </tr>\n",
       "  </thead>\n",
       "  <tbody>\n",
       "    <tr>\n",
       "      <th>Aaron Gordon</th>\n",
       "      <td>1246</td>\n",
       "      <td>NaN</td>\n",
       "    </tr>\n",
       "    <tr>\n",
       "      <th>Aaron Holiday</th>\n",
       "      <td>294</td>\n",
       "      <td>NaN</td>\n",
       "    </tr>\n",
       "    <tr>\n",
       "      <th>Abdel Nader</th>\n",
       "      <td>241</td>\n",
       "      <td>NaN</td>\n",
       "    </tr>\n",
       "    <tr>\n",
       "      <th>Al Horford</th>\n",
       "      <td>925</td>\n",
       "      <td>NaN</td>\n",
       "    </tr>\n",
       "    <tr>\n",
       "      <th>Al-Farouq Aminu</th>\n",
       "      <td>760</td>\n",
       "      <td>NaN</td>\n",
       "    </tr>\n",
       "    <tr>\n",
       "      <th>Alan Williams</th>\n",
       "      <td>18</td>\n",
       "      <td>NaN</td>\n",
       "    </tr>\n",
       "    <tr>\n",
       "      <th>Alec Burks</th>\n",
       "      <td>561</td>\n",
       "      <td>NaN</td>\n",
       "    </tr>\n",
       "    <tr>\n",
       "      <th>Alex Abrines</th>\n",
       "      <td>165</td>\n",
       "      <td>NaN</td>\n",
       "    </tr>\n",
       "    <tr>\n",
       "      <th>Alex Caruso</th>\n",
       "      <td>229</td>\n",
       "      <td>NaN</td>\n",
       "    </tr>\n",
       "    <tr>\n",
       "      <th>Alex Len</th>\n",
       "      <td>854</td>\n",
       "      <td>NaN</td>\n",
       "    </tr>\n",
       "    <tr>\n",
       "      <th>Alex Poythress</th>\n",
       "      <td>107</td>\n",
       "      <td>NaN</td>\n",
       "    </tr>\n",
       "    <tr>\n",
       "      <th>Alfonzo McKinnie</th>\n",
       "      <td>337</td>\n",
       "      <td>NaN</td>\n",
       "    </tr>\n",
       "    <tr>\n",
       "      <th>Alize Johnson</th>\n",
       "      <td>13</td>\n",
       "      <td>NaN</td>\n",
       "    </tr>\n",
       "    <tr>\n",
       "      <th>Allen Crabbe</th>\n",
       "      <td>413</td>\n",
       "      <td>NaN</td>\n",
       "    </tr>\n",
       "    <tr>\n",
       "      <th>Allonzo Trier</th>\n",
       "      <td>695</td>\n",
       "      <td>NaN</td>\n",
       "    </tr>\n",
       "    <tr>\n",
       "      <th>Amile Jefferson</th>\n",
       "      <td>27</td>\n",
       "      <td>NaN</td>\n",
       "    </tr>\n",
       "    <tr>\n",
       "      <th>Amir Johnson</th>\n",
       "      <td>201</td>\n",
       "      <td>NaN</td>\n",
       "    </tr>\n",
       "    <tr>\n",
       "      <th>Andre Drummond</th>\n",
       "      <td>1370</td>\n",
       "      <td>NaN</td>\n",
       "    </tr>\n",
       "    <tr>\n",
       "      <th>Andre Iguodala</th>\n",
       "      <td>389</td>\n",
       "      <td>NaN</td>\n",
       "    </tr>\n",
       "    <tr>\n",
       "      <th>Andre Ingram</th>\n",
       "      <td>0</td>\n",
       "      <td>NaN</td>\n",
       "    </tr>\n",
       "    <tr>\n",
       "      <th>Andrew Bogut</th>\n",
       "      <td>39</td>\n",
       "      <td>NaN</td>\n",
       "    </tr>\n",
       "    <tr>\n",
       "      <th>Andrew Harrison</th>\n",
       "      <td>54</td>\n",
       "      <td>NaN</td>\n",
       "    </tr>\n",
       "    <tr>\n",
       "      <th>Andrew Wiggins</th>\n",
       "      <td>1321</td>\n",
       "      <td>NaN</td>\n",
       "    </tr>\n",
       "    <tr>\n",
       "      <th>Anfernee Simons</th>\n",
       "      <td>75</td>\n",
       "      <td>NaN</td>\n",
       "    </tr>\n",
       "    <tr>\n",
       "      <th>Angel Delgado</th>\n",
       "      <td>3</td>\n",
       "      <td>NaN</td>\n",
       "    </tr>\n",
       "    <tr>\n",
       "      <th>Ante Zizic</th>\n",
       "      <td>459</td>\n",
       "      <td>NaN</td>\n",
       "    </tr>\n",
       "    <tr>\n",
       "      <th>Anthony Davis</th>\n",
       "      <td>1452</td>\n",
       "      <td>NaN</td>\n",
       "    </tr>\n",
       "    <tr>\n",
       "      <th>Anthony Tolliver</th>\n",
       "      <td>326</td>\n",
       "      <td>NaN</td>\n",
       "    </tr>\n",
       "    <tr>\n",
       "      <th>Antonio Blakeney</th>\n",
       "      <td>418</td>\n",
       "      <td>NaN</td>\n",
       "    </tr>\n",
       "    <tr>\n",
       "      <th>Aron Baynes</th>\n",
       "      <td>284</td>\n",
       "      <td>NaN</td>\n",
       "    </tr>\n",
       "    <tr>\n",
       "      <th>...</th>\n",
       "      <td>...</td>\n",
       "      <td>...</td>\n",
       "    </tr>\n",
       "    <tr>\n",
       "      <th>Tyler Zeller</th>\n",
       "      <td>46</td>\n",
       "      <td>NaN</td>\n",
       "    </tr>\n",
       "    <tr>\n",
       "      <th>Tyreke Evans</th>\n",
       "      <td>706</td>\n",
       "      <td>NaN</td>\n",
       "    </tr>\n",
       "    <tr>\n",
       "      <th>Tyrone Wallace</th>\n",
       "      <td>218</td>\n",
       "      <td>NaN</td>\n",
       "    </tr>\n",
       "    <tr>\n",
       "      <th>Tyson Chandler</th>\n",
       "      <td>173</td>\n",
       "      <td>NaN</td>\n",
       "    </tr>\n",
       "    <tr>\n",
       "      <th>Tyus Jones</th>\n",
       "      <td>468</td>\n",
       "      <td>NaN</td>\n",
       "    </tr>\n",
       "    <tr>\n",
       "      <th>Udonis Haslem</th>\n",
       "      <td>25</td>\n",
       "      <td>NaN</td>\n",
       "    </tr>\n",
       "    <tr>\n",
       "      <th>Victor Oladipo</th>\n",
       "      <td>675</td>\n",
       "      <td>NaN</td>\n",
       "    </tr>\n",
       "    <tr>\n",
       "      <th>Vince Carter</th>\n",
       "      <td>562</td>\n",
       "      <td>NaN</td>\n",
       "    </tr>\n",
       "    <tr>\n",
       "      <th>Vincent Edwards</th>\n",
       "      <td>3</td>\n",
       "      <td>NaN</td>\n",
       "    </tr>\n",
       "    <tr>\n",
       "      <th>Wade Baldwin IV</th>\n",
       "      <td>30</td>\n",
       "      <td>NaN</td>\n",
       "    </tr>\n",
       "    <tr>\n",
       "      <th>Walter Lemon Jr.</th>\n",
       "      <td>86</td>\n",
       "      <td>NaN</td>\n",
       "    </tr>\n",
       "    <tr>\n",
       "      <th>Wayne Ellington</th>\n",
       "      <td>545</td>\n",
       "      <td>NaN</td>\n",
       "    </tr>\n",
       "    <tr>\n",
       "      <th>Wayne Selden</th>\n",
       "      <td>514</td>\n",
       "      <td>NaN</td>\n",
       "    </tr>\n",
       "    <tr>\n",
       "      <th>Wendell Carter Jr.</th>\n",
       "      <td>455</td>\n",
       "      <td>NaN</td>\n",
       "    </tr>\n",
       "    <tr>\n",
       "      <th>Wes Iwundu</th>\n",
       "      <td>339</td>\n",
       "      <td>NaN</td>\n",
       "    </tr>\n",
       "    <tr>\n",
       "      <th>Wesley Johnson</th>\n",
       "      <td>128</td>\n",
       "      <td>NaN</td>\n",
       "    </tr>\n",
       "    <tr>\n",
       "      <th>Wesley Matthews</th>\n",
       "      <td>840</td>\n",
       "      <td>NaN</td>\n",
       "    </tr>\n",
       "    <tr>\n",
       "      <th>Will Barton</th>\n",
       "      <td>494</td>\n",
       "      <td>NaN</td>\n",
       "    </tr>\n",
       "    <tr>\n",
       "      <th>Willie Cauley-Stein</th>\n",
       "      <td>965</td>\n",
       "      <td>NaN</td>\n",
       "    </tr>\n",
       "    <tr>\n",
       "      <th>Willy Hernangomez</th>\n",
       "      <td>421</td>\n",
       "      <td>NaN</td>\n",
       "    </tr>\n",
       "    <tr>\n",
       "      <th>Wilson Chandler</th>\n",
       "      <td>305</td>\n",
       "      <td>NaN</td>\n",
       "    </tr>\n",
       "    <tr>\n",
       "      <th>Yante Maten</th>\n",
       "      <td>2</td>\n",
       "      <td>NaN</td>\n",
       "    </tr>\n",
       "    <tr>\n",
       "      <th>Yogi Ferrell</th>\n",
       "      <td>420</td>\n",
       "      <td>NaN</td>\n",
       "    </tr>\n",
       "    <tr>\n",
       "      <th>Yuta Watanabe</th>\n",
       "      <td>39</td>\n",
       "      <td>NaN</td>\n",
       "    </tr>\n",
       "    <tr>\n",
       "      <th>Zach Collins</th>\n",
       "      <td>512</td>\n",
       "      <td>NaN</td>\n",
       "    </tr>\n",
       "    <tr>\n",
       "      <th>Zach LaVine</th>\n",
       "      <td>1492</td>\n",
       "      <td>NaN</td>\n",
       "    </tr>\n",
       "    <tr>\n",
       "      <th>Zach Lofton</th>\n",
       "      <td>0</td>\n",
       "      <td>NaN</td>\n",
       "    </tr>\n",
       "    <tr>\n",
       "      <th>Zaza Pachulia</th>\n",
       "      <td>267</td>\n",
       "      <td>NaN</td>\n",
       "    </tr>\n",
       "    <tr>\n",
       "      <th>Zhaire Smith</th>\n",
       "      <td>40</td>\n",
       "      <td>NaN</td>\n",
       "    </tr>\n",
       "    <tr>\n",
       "      <th>Zhou Qi</th>\n",
       "      <td>2</td>\n",
       "      <td>NaN</td>\n",
       "    </tr>\n",
       "  </tbody>\n",
       "</table>\n",
       "<p>530 rows × 2 columns</p>\n",
       "</div>"
      ],
      "text/plain": [
       "                      PTS  CAREER_STATS\n",
       "DISPLAY_FIRST_LAST                     \n",
       "Aaron Gordon         1246           NaN\n",
       "Aaron Holiday         294           NaN\n",
       "Abdel Nader           241           NaN\n",
       "Al Horford            925           NaN\n",
       "Al-Farouq Aminu       760           NaN\n",
       "Alan Williams          18           NaN\n",
       "Alec Burks            561           NaN\n",
       "Alex Abrines          165           NaN\n",
       "Alex Caruso           229           NaN\n",
       "Alex Len              854           NaN\n",
       "Alex Poythress        107           NaN\n",
       "Alfonzo McKinnie      337           NaN\n",
       "Alize Johnson          13           NaN\n",
       "Allen Crabbe          413           NaN\n",
       "Allonzo Trier         695           NaN\n",
       "Amile Jefferson        27           NaN\n",
       "Amir Johnson          201           NaN\n",
       "Andre Drummond       1370           NaN\n",
       "Andre Iguodala        389           NaN\n",
       "Andre Ingram            0           NaN\n",
       "Andrew Bogut           39           NaN\n",
       "Andrew Harrison        54           NaN\n",
       "Andrew Wiggins       1321           NaN\n",
       "Anfernee Simons        75           NaN\n",
       "Angel Delgado           3           NaN\n",
       "Ante Zizic            459           NaN\n",
       "Anthony Davis        1452           NaN\n",
       "Anthony Tolliver      326           NaN\n",
       "Antonio Blakeney      418           NaN\n",
       "Aron Baynes           284           NaN\n",
       "...                   ...           ...\n",
       "Tyler Zeller           46           NaN\n",
       "Tyreke Evans          706           NaN\n",
       "Tyrone Wallace        218           NaN\n",
       "Tyson Chandler        173           NaN\n",
       "Tyus Jones            468           NaN\n",
       "Udonis Haslem          25           NaN\n",
       "Victor Oladipo        675           NaN\n",
       "Vince Carter          562           NaN\n",
       "Vincent Edwards         3           NaN\n",
       "Wade Baldwin IV        30           NaN\n",
       "Walter Lemon Jr.       86           NaN\n",
       "Wayne Ellington       545           NaN\n",
       "Wayne Selden          514           NaN\n",
       "Wendell Carter Jr.    455           NaN\n",
       "Wes Iwundu            339           NaN\n",
       "Wesley Johnson        128           NaN\n",
       "Wesley Matthews       840           NaN\n",
       "Will Barton           494           NaN\n",
       "Willie Cauley-Stein   965           NaN\n",
       "Willy Hernangomez     421           NaN\n",
       "Wilson Chandler       305           NaN\n",
       "Yante Maten             2           NaN\n",
       "Yogi Ferrell          420           NaN\n",
       "Yuta Watanabe          39           NaN\n",
       "Zach Collins          512           NaN\n",
       "Zach LaVine          1492           NaN\n",
       "Zach Lofton             0           NaN\n",
       "Zaza Pachulia         267           NaN\n",
       "Zhaire Smith           40           NaN\n",
       "Zhou Qi                 2           NaN\n",
       "\n",
       "[530 rows x 2 columns]"
      ]
     },
     "execution_count": 239,
     "metadata": {},
     "output_type": "execute_result"
    }
   ],
   "source": [
    "df.groupby('DISPLAY_FIRST_LAST').agg({'PTS':sum,'CAREER_STATS':'first'})"
   ]
  },
  {
   "cell_type": "code",
   "execution_count": null,
   "metadata": {},
   "outputs": [],
   "source": [
    "df."
   ]
  }
 ],
 "metadata": {
  "kernelspec": {
   "display_name": "Python 3",
   "language": "python",
   "name": "python3"
  },
  "language_info": {
   "codemirror_mode": {
    "name": "ipython",
    "version": 3
   },
   "file_extension": ".py",
   "mimetype": "text/x-python",
   "name": "python",
   "nbconvert_exporter": "python",
   "pygments_lexer": "ipython3",
   "version": "3.7.3"
  }
 },
 "nbformat": 4,
 "nbformat_minor": 2
}
